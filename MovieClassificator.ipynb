{
  "nbformat": 4,
  "nbformat_minor": 0,
  "metadata": {
    "colab": {
      "name": "Untitled1.ipynb",
      "provenance": [],
      "collapsed_sections": []
    },
    "kernelspec": {
      "name": "python3",
      "display_name": "Python 3"
    },
    "accelerator": "GPU"
  },
  "cells": [
    {
      "cell_type": "code",
      "metadata": {
        "id": "yyO0XCa9sPSh",
        "colab_type": "code",
        "outputId": "e49d39e7-35ec-499d-d5f5-c26894216946",
        "colab": {
          "base_uri": "https://localhost:8080/",
          "height": 468
        }
      },
      "source": [
        "!pip uninstall keras-preprocessing\n",
        "!pip install git+https://github.com/keras-team/keras-preprocessing.git\n",
        "!pip install keras-metrics"
      ],
      "execution_count": 0,
      "outputs": [
        {
          "output_type": "stream",
          "text": [
            "Uninstalling Keras-Preprocessing-1.1.0:\n",
            "  Would remove:\n",
            "    /usr/local/lib/python3.6/dist-packages/Keras_Preprocessing-1.1.0.dist-info/*\n",
            "    /usr/local/lib/python3.6/dist-packages/keras_preprocessing/*\n",
            "Proceed (y/n)? y\n",
            "  Successfully uninstalled Keras-Preprocessing-1.1.0\n",
            "Collecting git+https://github.com/keras-team/keras-preprocessing.git\n",
            "  Cloning https://github.com/keras-team/keras-preprocessing.git to /tmp/pip-req-build-prd35hl5\n",
            "  Running command git clone -q https://github.com/keras-team/keras-preprocessing.git /tmp/pip-req-build-prd35hl5\n",
            "Requirement already satisfied: numpy>=1.9.1 in /usr/local/lib/python3.6/dist-packages (from Keras-Preprocessing==1.1.0) (1.16.4)\n",
            "Requirement already satisfied: six>=1.9.0 in /usr/local/lib/python3.6/dist-packages (from Keras-Preprocessing==1.1.0) (1.12.0)\n",
            "Building wheels for collected packages: Keras-Preprocessing\n",
            "  Building wheel for Keras-Preprocessing (setup.py) ... \u001b[?25l\u001b[?25hdone\n",
            "  Stored in directory: /tmp/pip-ephem-wheel-cache-7rj7s2x0/wheels/03/a0/39/171f6040d36f36c71168dc69afa81334351b20955dc36ce932\n",
            "Successfully built Keras-Preprocessing\n",
            "Installing collected packages: Keras-Preprocessing\n",
            "Successfully installed Keras-Preprocessing-1.1.0\n",
            "Requirement already satisfied: keras-metrics in /usr/local/lib/python3.6/dist-packages (1.1.0)\n",
            "Requirement already satisfied: Keras>=2.1.5 in /usr/local/lib/python3.6/dist-packages (from keras-metrics) (2.2.4)\n",
            "Requirement already satisfied: pyyaml in /usr/local/lib/python3.6/dist-packages (from Keras>=2.1.5->keras-metrics) (3.13)\n",
            "Requirement already satisfied: keras-preprocessing>=1.0.5 in /usr/local/lib/python3.6/dist-packages (from Keras>=2.1.5->keras-metrics) (1.1.0)\n",
            "Requirement already satisfied: keras-applications>=1.0.6 in /usr/local/lib/python3.6/dist-packages (from Keras>=2.1.5->keras-metrics) (1.0.8)\n",
            "Requirement already satisfied: scipy>=0.14 in /usr/local/lib/python3.6/dist-packages (from Keras>=2.1.5->keras-metrics) (1.3.0)\n",
            "Requirement already satisfied: h5py in /usr/local/lib/python3.6/dist-packages (from Keras>=2.1.5->keras-metrics) (2.8.0)\n",
            "Requirement already satisfied: numpy>=1.9.1 in /usr/local/lib/python3.6/dist-packages (from Keras>=2.1.5->keras-metrics) (1.16.4)\n",
            "Requirement already satisfied: six>=1.9.0 in /usr/local/lib/python3.6/dist-packages (from Keras>=2.1.5->keras-metrics) (1.12.0)\n"
          ],
          "name": "stdout"
        }
      ]
    },
    {
      "cell_type": "code",
      "metadata": {
        "id": "EsN08SUHCr5C",
        "colab_type": "code",
        "outputId": "cce2fe30-585e-4b1c-8e1d-76b8a2dd07b0",
        "colab": {
          "base_uri": "https://localhost:8080/",
          "height": 35
        }
      },
      "source": [
        "import numpy as np\n",
        "import tensorflow as tf\n",
        "from PIL import Image\n",
        "from google.colab.patches import cv2_imshow\n",
        "import os\n",
        "import cv2\n",
        "import re\n",
        "import pandas as pd\n",
        "import keras\n",
        "from keras import backend as K\n",
        "from keras import optimizers\n",
        "from keras_preprocessing.image import ImageDataGenerator\n",
        "from keras.preprocessing.image import img_to_array, array_to_img\n",
        "from keras.preprocessing.image import load_img\n",
        "from keras.models import Sequential, load_model\n",
        "from keras.layers import Dense, Activation, Conv2D, MaxPooling2D, Dropout, Flatten\n",
        "from keras.callbacks import ModelCheckpoint, EarlyStopping\n",
        "import keras_metrics as km\n",
        "import matplotlib.pyplot as plt"
      ],
      "execution_count": 0,
      "outputs": [
        {
          "output_type": "stream",
          "text": [
            "Using TensorFlow backend.\n"
          ],
          "name": "stderr"
        }
      ]
    },
    {
      "cell_type": "code",
      "metadata": {
        "id": "jSadKgSjD25T",
        "colab_type": "code",
        "outputId": "5f75c9c4-104e-48e7-8873-bce70f1b830b",
        "colab": {
          "base_uri": "https://localhost:8080/",
          "height": 35
        }
      },
      "source": [
        "# Load the Drive helper and mount\n",
        "from google.colab import drive\n",
        "\n",
        "# This will prompt for authorization.\n",
        "drive.mount('/content/drive', force_remount=True)"
      ],
      "execution_count": 0,
      "outputs": [
        {
          "output_type": "stream",
          "text": [
            "Mounted at /content/drive\n"
          ],
          "name": "stdout"
        }
      ]
    },
    {
      "cell_type": "code",
      "metadata": {
        "id": "1NlFTlzJFAEF",
        "colab_type": "code",
        "colab": {}
      },
      "source": [
        "#parameters\n",
        "batch_size = 1"
      ],
      "execution_count": 0,
      "outputs": []
    },
    {
      "cell_type": "code",
      "metadata": {
        "id": "nkUWtkNJIeNH",
        "colab_type": "code",
        "colab": {}
      },
      "source": [
        "save_path = '/content/drive/My Drive/Colab Notebooks/ML projekat/best_model.{epoch:02d}-{val_loss:.2f}.h5'"
      ],
      "execution_count": 0,
      "outputs": []
    },
    {
      "cell_type": "code",
      "metadata": {
        "id": "KjaBcKQnEn7V",
        "colab_type": "code",
        "colab": {}
      },
      "source": [
        "train_data_dir = '/content/drive/My Drive/Colab Notebooks/ML projekat/data/train_data/train'\n",
        "validation_data_dir = '/content/drive/My Drive/Colab Notebooks/ML projekat/data/validation_data/validation'\n",
        "test_data_dir = '/content/drive/My Drive/Colab Notebooks/ML projekat/data/test_data/test'\n"
      ],
      "execution_count": 0,
      "outputs": []
    },
    {
      "cell_type": "code",
      "metadata": {
        "id": "9Anr4pbmdfJ5",
        "colab_type": "code",
        "colab": {}
      },
      "source": [
        "# show image and prediction for a single image\n",
        "def predict_genre(model, img):\n",
        "  # resize for presentation                                  \n",
        "  plt.imshow(img)\n",
        "  \n",
        "  # get probabilities\n",
        "  probabilities = model.predict(img.reshape(1, 224, 224, 3))\n",
        "  print(probabilities)\n",
        "  # keep the best 3\n",
        "  top_3 = np.argsort(probabilities)[0][-3:]\n",
        "  \n",
        "  for i in range(0, 3):\n",
        "    print(genres[top_3[i]] + '({})'.format(probabilities[0, top_3[i]]))"
      ],
      "execution_count": 0,
      "outputs": []
    },
    {
      "cell_type": "code",
      "metadata": {
        "id": "1zHbh4riYm2y",
        "colab_type": "code",
        "colab": {}
      },
      "source": [
        "def get_all_genres(dataset) :\n",
        "    new_ds = dataset['Genre'].str.split(\"|\", expand=True)\n",
        "\n",
        "    genres1 = set(new_ds[0])\n",
        "    genres2 = set(new_ds[1])\n",
        "    genres3 = set(new_ds[2])\n",
        "\n",
        "    genres = genres1 | genres2 | genres3\n",
        "\n",
        "    genres.remove(None)\n",
        "    genres = list(genres)\n",
        "    return np.array(genres, dtype=object)"
      ],
      "execution_count": 0,
      "outputs": []
    },
    {
      "cell_type": "code",
      "metadata": {
        "id": "XEHKiLholvv5",
        "colab_type": "code",
        "colab": {}
      },
      "source": [
        "# extracts a year from the movie title\n",
        "def extractYear(title) :\n",
        "  try:\n",
        "    return int(re.search('\\(([^)]+)', title).group(1))\n",
        "  except (ValueError, AttributeError): \n",
        "    return None"
      ],
      "execution_count": 0,
      "outputs": []
    },
    {
      "cell_type": "code",
      "metadata": {
        "id": "UTzqePB1OL1U",
        "colab_type": "code",
        "colab": {}
      },
      "source": [
        "def genres_to_bool(y):\n",
        "  y = np.array(y, dtype=object)\n",
        "  genres_arr = np.array(genres, dtype=object)\n",
        "  if (len(y) == 1) :\n",
        "    return np.equal(genres_arr, y[0]) + np.array([0])\n",
        "  elif (len(y) == 2):\n",
        "    first = np.equal(genres_arr, y[0])\n",
        "    second = np.equal(genres_arr, y[1])\n",
        "    return np.logical_or(first, second) + np.array([0])\n",
        "  elif (len(y) == 3):\n",
        "    first = np.equal(genres_arr, y[0])\n",
        "    second = np.equal(genres_arr, y[1])\n",
        "    third = np.equal(genres_arr, y[2])\n",
        "    return np.logical_or(first, np.logical_or(second, third)) + np.array([0])"
      ],
      "execution_count": 0,
      "outputs": []
    },
    {
      "cell_type": "code",
      "metadata": {
        "id": "ql0dFBV46Vem",
        "colab_type": "code",
        "colab": {}
      },
      "source": [
        "# returns the number of missclasified labels\n",
        "def hamming_loss(y, y_hat):\n",
        "  y_bool = K.cast(y, dtype=bool)\n",
        " \n",
        "  y_hat_bool = y_hat > 0.5\n",
        "  y_hat_bool = K.cast(y_hat_bool, dtype=bool)\n",
        "  \n",
        "  xor = tf.math.logical_xor(y_bool, y_hat_bool)\n",
        "  \n",
        "  xor = K.cast(xor, dtype=tf.float32)\n",
        " \n",
        "  return K.mean(xor)"
      ],
      "execution_count": 0,
      "outputs": []
    },
    {
      "cell_type": "code",
      "metadata": {
        "id": "jYaklNUT6X4B",
        "colab_type": "code",
        "colab": {}
      },
      "source": [
        "\n",
        "# returns if the top ranked label is not among the proper labels\n",
        "def one_error_loss(y, y_hat):  \n",
        "  # sum of mistakes\n",
        "  mistakes = 0\n",
        "  # for each instance\n",
        "  for j in range(0, batch_size): \n",
        "    # top ranked label position\n",
        "    top_ranked_label = tf.math.top_k(y_hat[j], k=1, sorted=True).indices[0]\n",
        "    # cast to int32\n",
        "    top_ranked_label = tf.cast(top_ranked_label, dtype=tf.int32)\n",
        "    # find the proper label on that position\n",
        "    label = tf.gather(y[j], top_ranked_label)\n",
        "   \n",
        "    m = K.switch(K.equal(label, 1), 0, 1)\n",
        "    mistakes+=m\n",
        " \n",
        "  return mistakes / batch_size  "
      ],
      "execution_count": 0,
      "outputs": []
    },
    {
      "cell_type": "code",
      "metadata": {
        "id": "s5ucuUbj8Clh",
        "colab_type": "code",
        "colab": {}
      },
      "source": [
        "# returns how far we need to go down the list\n",
        "# of labels to cover all proper labels\n",
        "def coverage(y, y_hat) :\n",
        "  y = K.cast(y, dtype=tf.int32)\n",
        "    \n",
        "  # sorted indices of prediction values\n",
        "  sorted_prediction = tf.math.top_k(y_hat, k=y_hat.shape[-1], sorted=True).indices\n",
        "    \n",
        "  sorted_prediction = K.cast(sorted_prediction, dtype=tf.int64)\n",
        "  \n",
        "  # sum of distances\n",
        "  dist_sum = 0;\n",
        "  \n",
        "  # for every instance\n",
        "  for j in range(0, batch_size) :\n",
        "    \n",
        "    # position of ones in proper labels\n",
        "    ones_pos = tf.where(tf.equal(y[j], 1))    \n",
        "\n",
        "    distances = tf.map_fn(lambda x: tf.where(tf.equal(x, sorted_prediction[j])) + 1, ones_pos)\n",
        "    dist_sum += K.max(distances)\n",
        "  \n",
        "  return dist_sum / batch_size"
      ],
      "execution_count": 0,
      "outputs": []
    },
    {
      "cell_type": "code",
      "metadata": {
        "id": "bujHmyll26Pa",
        "colab_type": "code",
        "colab": {}
      },
      "source": [
        "# read dataset\n",
        "dataset = pd.read_csv('/content/drive/My Drive/Colab Notebooks/ML projekat/MovieGenre.csv')"
      ],
      "execution_count": 0,
      "outputs": []
    },
    {
      "cell_type": "code",
      "metadata": {
        "id": "WbXf8x945JEY",
        "colab_type": "code",
        "colab": {}
      },
      "source": [
        "# drop all rows with null values\n",
        "dataset.dropna(inplace=True)"
      ],
      "execution_count": 0,
      "outputs": []
    },
    {
      "cell_type": "code",
      "metadata": {
        "id": "tYgg10h2kQeO",
        "colab_type": "code",
        "colab": {}
      },
      "source": [
        "# adds year column\n",
        "dataset['Year'] = dataset['Title'].apply(extractYear)"
      ],
      "execution_count": 0,
      "outputs": []
    },
    {
      "cell_type": "code",
      "metadata": {
        "id": "zRGMymgtpSp-",
        "colab_type": "code",
        "colab": {}
      },
      "source": [
        "# reduce the dataset to movies in the past 10 years\n",
        "dataset = dataset.drop(dataset[dataset.Year < 2000].index)"
      ],
      "execution_count": 0,
      "outputs": []
    },
    {
      "cell_type": "code",
      "metadata": {
        "id": "OKUEaCWYKT_V",
        "colab_type": "code",
        "outputId": "484a7ce6-5ac4-44ed-e999-92dae3c839fb",
        "colab": {
          "base_uri": "https://localhost:8080/",
          "height": 52
        }
      },
      "source": [
        "# drop duplicates in terms of imdbId\n",
        "print(dataset.shape)\n",
        "dataset.drop_duplicates(['imdbId'], keep='last',inplace=True)\n",
        "print(dataset.shape)"
      ],
      "execution_count": 0,
      "outputs": [
        {
          "output_type": "stream",
          "text": [
            "(20593, 7)\n",
            "(20162, 7)\n"
          ],
          "name": "stdout"
        }
      ]
    },
    {
      "cell_type": "code",
      "metadata": {
        "id": "8oGEDERGHeYI",
        "colab_type": "code",
        "colab": {}
      },
      "source": [
        "# change imdbId to str\n",
        "dataset['imdbId'] = dataset['imdbId'].astype(str)\n",
        "dataset['imdbId'] = dataset['imdbId'] + '.jpg'"
      ],
      "execution_count": 0,
      "outputs": []
    },
    {
      "cell_type": "code",
      "metadata": {
        "id": "3GHBPZEmNzlG",
        "colab_type": "code",
        "colab": {}
      },
      "source": [
        "# add list of genres as a column\n",
        "dataset['Genre_modified'] =  dataset['Genre'].str.split(\"|\", expand=False)"
      ],
      "execution_count": 0,
      "outputs": []
    },
    {
      "cell_type": "code",
      "metadata": {
        "id": "R-tDicS_5MFt",
        "colab_type": "code",
        "outputId": "9f823807-28e2-4aa7-fd91-a0da320b20f2",
        "colab": {
          "base_uri": "https://localhost:8080/",
          "height": 55
        }
      },
      "source": [
        "# get a numpy array of all possible genres\n",
        "genres = get_all_genres(dataset)\n",
        "genres = genres.tolist()\n",
        "genres.sort()\n",
        "#genres = ['Biography', 'Family', 'Horror', 'War', 'Talk-Show', 'Drama', 'Documentary', 'History', 'Reality-TV', 'Music', 'Adult', 'Western', 'News', 'Crime', 'Animation', 'Mystery', 'Romance', 'Comedy', 'Adventure', 'Thriller', 'Game-Show', 'Action', 'Short', 'Musical', 'Sci-Fi', 'Sport', 'Fantasy']\n",
        "print(genres)"
      ],
      "execution_count": 0,
      "outputs": [
        {
          "output_type": "stream",
          "text": [
            "['Action', 'Adult', 'Adventure', 'Animation', 'Biography', 'Comedy', 'Crime', 'Documentary', 'Drama', 'Family', 'Fantasy', 'Game-Show', 'History', 'Horror', 'Music', 'Musical', 'Mystery', 'News', 'Reality-TV', 'Romance', 'Sci-Fi', 'Short', 'Sport', 'Talk-Show', 'Thriller', 'War', 'Western']\n"
          ],
          "name": "stdout"
        }
      ]
    },
    {
      "cell_type": "code",
      "metadata": {
        "id": "Efi8QU4cNd8G",
        "colab_type": "code",
        "outputId": "45906654-ad51-43c0-bc75-2e399d3a2654",
        "colab": {
          "base_uri": "https://localhost:8080/",
          "height": 479
        }
      },
      "source": [
        "# create labels column\n",
        "dataset['Labels'] = dataset['Genre_modified'].apply(genres_to_bool).tolist()\n",
        "dataset.head(5)\n"
      ],
      "execution_count": 0,
      "outputs": [
        {
          "output_type": "execute_result",
          "data": {
            "text/html": [
              "<div>\n",
              "<style scoped>\n",
              "    .dataframe tbody tr th:only-of-type {\n",
              "        vertical-align: middle;\n",
              "    }\n",
              "\n",
              "    .dataframe tbody tr th {\n",
              "        vertical-align: top;\n",
              "    }\n",
              "\n",
              "    .dataframe thead th {\n",
              "        text-align: right;\n",
              "    }\n",
              "</style>\n",
              "<table border=\"1\" class=\"dataframe\">\n",
              "  <thead>\n",
              "    <tr style=\"text-align: right;\">\n",
              "      <th></th>\n",
              "      <th>imdbId</th>\n",
              "      <th>Imdb Link</th>\n",
              "      <th>Title</th>\n",
              "      <th>IMDB Score</th>\n",
              "      <th>Genre</th>\n",
              "      <th>Poster</th>\n",
              "      <th>Year</th>\n",
              "      <th>Genre_modified</th>\n",
              "      <th>Labels</th>\n",
              "    </tr>\n",
              "  </thead>\n",
              "  <tbody>\n",
              "    <tr>\n",
              "      <th>27</th>\n",
              "      <td>114117.jpg</td>\n",
              "      <td>http://www.imdb.com/title/tt114117</td>\n",
              "      <td>Persuasion</td>\n",
              "      <td>7.7</td>\n",
              "      <td>Drama</td>\n",
              "      <td>https://images-na.ssl-images-amazon.com/images...</td>\n",
              "      <td>NaN</td>\n",
              "      <td>[Drama]</td>\n",
              "      <td>[0, 0, 0, 0, 0, 0, 0, 0, 1, 0, 0, 0, 0, 0, 0, ...</td>\n",
              "    </tr>\n",
              "    <tr>\n",
              "      <th>566</th>\n",
              "      <td>111709.jpg</td>\n",
              "      <td>http://www.imdb.com/title/tt111709</td>\n",
              "      <td>Wide-Eyed and Legless</td>\n",
              "      <td>7.3</td>\n",
              "      <td>Comedy|Crime|Drama</td>\n",
              "      <td>https://images-na.ssl-images-amazon.com/images...</td>\n",
              "      <td>NaN</td>\n",
              "      <td>[Comedy, Crime, Drama]</td>\n",
              "      <td>[0, 0, 0, 0, 0, 1, 1, 0, 1, 0, 0, 0, 0, 0, 0, ...</td>\n",
              "    </tr>\n",
              "    <tr>\n",
              "      <th>774</th>\n",
              "      <td>113147.jpg</td>\n",
              "      <td>http://www.imdb.com/title/tt113147</td>\n",
              "      <td>The Gate of Heavenly Peace</td>\n",
              "      <td>8.8</td>\n",
              "      <td>Documentary</td>\n",
              "      <td>https://images-na.ssl-images-amazon.com/images...</td>\n",
              "      <td>NaN</td>\n",
              "      <td>[Documentary]</td>\n",
              "      <td>[0, 0, 0, 0, 0, 0, 0, 1, 0, 0, 0, 0, 0, 0, 0, ...</td>\n",
              "    </tr>\n",
              "    <tr>\n",
              "      <th>1505</th>\n",
              "      <td>112951.jpg</td>\n",
              "      <td>http://www.imdb.com/title/tt112951</td>\n",
              "      <td>En avoir (ou pas) (1995)</td>\n",
              "      <td>6.8</td>\n",
              "      <td>Drama|Romance</td>\n",
              "      <td>https://images-na.ssl-images-amazon.com/images...</td>\n",
              "      <td>NaN</td>\n",
              "      <td>[Drama, Romance]</td>\n",
              "      <td>[0, 0, 0, 0, 0, 0, 0, 0, 1, 0, 0, 0, 0, 0, 0, ...</td>\n",
              "    </tr>\n",
              "    <tr>\n",
              "      <th>2174</th>\n",
              "      <td>87690.jpg</td>\n",
              "      <td>http://www.imdb.com/title/tt87690</td>\n",
              "      <td>The Master</td>\n",
              "      <td>4.3</td>\n",
              "      <td>Adventure|Drama|Action</td>\n",
              "      <td>https://images-na.ssl-images-amazon.com/images...</td>\n",
              "      <td>NaN</td>\n",
              "      <td>[Adventure, Drama, Action]</td>\n",
              "      <td>[1, 0, 1, 0, 0, 0, 0, 0, 1, 0, 0, 0, 0, 0, 0, ...</td>\n",
              "    </tr>\n",
              "  </tbody>\n",
              "</table>\n",
              "</div>"
            ],
            "text/plain": [
              "          imdbId  ...                                             Labels\n",
              "27    114117.jpg  ...  [0, 0, 0, 0, 0, 0, 0, 0, 1, 0, 0, 0, 0, 0, 0, ...\n",
              "566   111709.jpg  ...  [0, 0, 0, 0, 0, 1, 1, 0, 1, 0, 0, 0, 0, 0, 0, ...\n",
              "774   113147.jpg  ...  [0, 0, 0, 0, 0, 0, 0, 1, 0, 0, 0, 0, 0, 0, 0, ...\n",
              "1505  112951.jpg  ...  [0, 0, 0, 0, 0, 0, 0, 0, 1, 0, 0, 0, 0, 0, 0, ...\n",
              "2174   87690.jpg  ...  [1, 0, 1, 0, 0, 0, 0, 0, 1, 0, 0, 0, 0, 0, 0, ...\n",
              "\n",
              "[5 rows x 9 columns]"
            ]
          },
          "metadata": {
            "tags": []
          },
          "execution_count": 22
        }
      ]
    },
    {
      "cell_type": "code",
      "metadata": {
        "id": "hJBh67T5WLgH",
        "colab_type": "code",
        "colab": {}
      },
      "source": [
        "# split labels\n",
        "dataset = pd.merge(dataset, pd.DataFrame(dataset.Labels.tolist(), columns=genres), on=dataset.index)\n"
      ],
      "execution_count": 0,
      "outputs": []
    },
    {
      "cell_type": "code",
      "metadata": {
        "id": "dMJSzCg4rKFz",
        "colab_type": "code",
        "outputId": "166a58b6-dece-4183-cb62-ccf3c5fc6150",
        "colab": {
          "base_uri": "https://localhost:8080/",
          "height": 673
        }
      },
      "source": [
        "dataset.head(5)"
      ],
      "execution_count": 0,
      "outputs": [
        {
          "output_type": "execute_result",
          "data": {
            "text/html": [
              "<div>\n",
              "<style scoped>\n",
              "    .dataframe tbody tr th:only-of-type {\n",
              "        vertical-align: middle;\n",
              "    }\n",
              "\n",
              "    .dataframe tbody tr th {\n",
              "        vertical-align: top;\n",
              "    }\n",
              "\n",
              "    .dataframe thead th {\n",
              "        text-align: right;\n",
              "    }\n",
              "</style>\n",
              "<table border=\"1\" class=\"dataframe\">\n",
              "  <thead>\n",
              "    <tr style=\"text-align: right;\">\n",
              "      <th></th>\n",
              "      <th>key_0</th>\n",
              "      <th>imdbId</th>\n",
              "      <th>Imdb Link</th>\n",
              "      <th>Title</th>\n",
              "      <th>IMDB Score</th>\n",
              "      <th>Genre</th>\n",
              "      <th>Poster</th>\n",
              "      <th>Year</th>\n",
              "      <th>Genre_modified</th>\n",
              "      <th>Labels</th>\n",
              "      <th>Action</th>\n",
              "      <th>Adult</th>\n",
              "      <th>Adventure</th>\n",
              "      <th>Animation</th>\n",
              "      <th>Biography</th>\n",
              "      <th>Comedy</th>\n",
              "      <th>Crime</th>\n",
              "      <th>Documentary</th>\n",
              "      <th>Drama</th>\n",
              "      <th>Family</th>\n",
              "      <th>Fantasy</th>\n",
              "      <th>Game-Show</th>\n",
              "      <th>History</th>\n",
              "      <th>Horror</th>\n",
              "      <th>Music</th>\n",
              "      <th>Musical</th>\n",
              "      <th>Mystery</th>\n",
              "      <th>News</th>\n",
              "      <th>Reality-TV</th>\n",
              "      <th>Romance</th>\n",
              "      <th>Sci-Fi</th>\n",
              "      <th>Short</th>\n",
              "      <th>Sport</th>\n",
              "      <th>Talk-Show</th>\n",
              "      <th>Thriller</th>\n",
              "      <th>War</th>\n",
              "      <th>Western</th>\n",
              "    </tr>\n",
              "  </thead>\n",
              "  <tbody>\n",
              "    <tr>\n",
              "      <th>0</th>\n",
              "      <td>27</td>\n",
              "      <td>114117.jpg</td>\n",
              "      <td>http://www.imdb.com/title/tt114117</td>\n",
              "      <td>Persuasion</td>\n",
              "      <td>7.7</td>\n",
              "      <td>Drama</td>\n",
              "      <td>https://images-na.ssl-images-amazon.com/images...</td>\n",
              "      <td>NaN</td>\n",
              "      <td>[Drama]</td>\n",
              "      <td>[0, 0, 0, 0, 0, 0, 0, 0, 1, 0, 0, 0, 0, 0, 0, ...</td>\n",
              "      <td>0</td>\n",
              "      <td>0</td>\n",
              "      <td>0</td>\n",
              "      <td>0</td>\n",
              "      <td>0</td>\n",
              "      <td>0</td>\n",
              "      <td>0</td>\n",
              "      <td>0</td>\n",
              "      <td>1</td>\n",
              "      <td>0</td>\n",
              "      <td>0</td>\n",
              "      <td>0</td>\n",
              "      <td>0</td>\n",
              "      <td>0</td>\n",
              "      <td>0</td>\n",
              "      <td>0</td>\n",
              "      <td>0</td>\n",
              "      <td>0</td>\n",
              "      <td>0</td>\n",
              "      <td>0</td>\n",
              "      <td>0</td>\n",
              "      <td>0</td>\n",
              "      <td>0</td>\n",
              "      <td>0</td>\n",
              "      <td>0</td>\n",
              "      <td>0</td>\n",
              "      <td>0</td>\n",
              "    </tr>\n",
              "    <tr>\n",
              "      <th>1</th>\n",
              "      <td>566</td>\n",
              "      <td>111709.jpg</td>\n",
              "      <td>http://www.imdb.com/title/tt111709</td>\n",
              "      <td>Wide-Eyed and Legless</td>\n",
              "      <td>7.3</td>\n",
              "      <td>Comedy|Crime|Drama</td>\n",
              "      <td>https://images-na.ssl-images-amazon.com/images...</td>\n",
              "      <td>NaN</td>\n",
              "      <td>[Comedy, Crime, Drama]</td>\n",
              "      <td>[0, 0, 0, 0, 0, 1, 1, 0, 1, 0, 0, 0, 0, 0, 0, ...</td>\n",
              "      <td>0</td>\n",
              "      <td>0</td>\n",
              "      <td>0</td>\n",
              "      <td>0</td>\n",
              "      <td>0</td>\n",
              "      <td>1</td>\n",
              "      <td>1</td>\n",
              "      <td>0</td>\n",
              "      <td>1</td>\n",
              "      <td>0</td>\n",
              "      <td>0</td>\n",
              "      <td>0</td>\n",
              "      <td>0</td>\n",
              "      <td>0</td>\n",
              "      <td>0</td>\n",
              "      <td>0</td>\n",
              "      <td>0</td>\n",
              "      <td>0</td>\n",
              "      <td>0</td>\n",
              "      <td>0</td>\n",
              "      <td>0</td>\n",
              "      <td>0</td>\n",
              "      <td>0</td>\n",
              "      <td>0</td>\n",
              "      <td>0</td>\n",
              "      <td>0</td>\n",
              "      <td>0</td>\n",
              "    </tr>\n",
              "    <tr>\n",
              "      <th>2</th>\n",
              "      <td>774</td>\n",
              "      <td>113147.jpg</td>\n",
              "      <td>http://www.imdb.com/title/tt113147</td>\n",
              "      <td>The Gate of Heavenly Peace</td>\n",
              "      <td>8.8</td>\n",
              "      <td>Documentary</td>\n",
              "      <td>https://images-na.ssl-images-amazon.com/images...</td>\n",
              "      <td>NaN</td>\n",
              "      <td>[Documentary]</td>\n",
              "      <td>[0, 0, 0, 0, 0, 0, 0, 1, 0, 0, 0, 0, 0, 0, 0, ...</td>\n",
              "      <td>0</td>\n",
              "      <td>0</td>\n",
              "      <td>0</td>\n",
              "      <td>0</td>\n",
              "      <td>0</td>\n",
              "      <td>0</td>\n",
              "      <td>0</td>\n",
              "      <td>1</td>\n",
              "      <td>0</td>\n",
              "      <td>0</td>\n",
              "      <td>0</td>\n",
              "      <td>0</td>\n",
              "      <td>0</td>\n",
              "      <td>0</td>\n",
              "      <td>0</td>\n",
              "      <td>0</td>\n",
              "      <td>0</td>\n",
              "      <td>0</td>\n",
              "      <td>0</td>\n",
              "      <td>0</td>\n",
              "      <td>0</td>\n",
              "      <td>0</td>\n",
              "      <td>0</td>\n",
              "      <td>0</td>\n",
              "      <td>0</td>\n",
              "      <td>0</td>\n",
              "      <td>0</td>\n",
              "    </tr>\n",
              "    <tr>\n",
              "      <th>3</th>\n",
              "      <td>1505</td>\n",
              "      <td>112951.jpg</td>\n",
              "      <td>http://www.imdb.com/title/tt112951</td>\n",
              "      <td>En avoir (ou pas) (1995)</td>\n",
              "      <td>6.8</td>\n",
              "      <td>Drama|Romance</td>\n",
              "      <td>https://images-na.ssl-images-amazon.com/images...</td>\n",
              "      <td>NaN</td>\n",
              "      <td>[Drama, Romance]</td>\n",
              "      <td>[0, 0, 0, 0, 0, 0, 0, 0, 1, 0, 0, 0, 0, 0, 0, ...</td>\n",
              "      <td>0</td>\n",
              "      <td>0</td>\n",
              "      <td>0</td>\n",
              "      <td>0</td>\n",
              "      <td>0</td>\n",
              "      <td>0</td>\n",
              "      <td>0</td>\n",
              "      <td>0</td>\n",
              "      <td>1</td>\n",
              "      <td>0</td>\n",
              "      <td>0</td>\n",
              "      <td>0</td>\n",
              "      <td>0</td>\n",
              "      <td>0</td>\n",
              "      <td>0</td>\n",
              "      <td>0</td>\n",
              "      <td>0</td>\n",
              "      <td>0</td>\n",
              "      <td>0</td>\n",
              "      <td>1</td>\n",
              "      <td>0</td>\n",
              "      <td>0</td>\n",
              "      <td>0</td>\n",
              "      <td>0</td>\n",
              "      <td>0</td>\n",
              "      <td>0</td>\n",
              "      <td>0</td>\n",
              "    </tr>\n",
              "    <tr>\n",
              "      <th>4</th>\n",
              "      <td>2174</td>\n",
              "      <td>87690.jpg</td>\n",
              "      <td>http://www.imdb.com/title/tt87690</td>\n",
              "      <td>The Master</td>\n",
              "      <td>4.3</td>\n",
              "      <td>Adventure|Drama|Action</td>\n",
              "      <td>https://images-na.ssl-images-amazon.com/images...</td>\n",
              "      <td>NaN</td>\n",
              "      <td>[Adventure, Drama, Action]</td>\n",
              "      <td>[1, 0, 1, 0, 0, 0, 0, 0, 1, 0, 0, 0, 0, 0, 0, ...</td>\n",
              "      <td>1</td>\n",
              "      <td>0</td>\n",
              "      <td>1</td>\n",
              "      <td>0</td>\n",
              "      <td>0</td>\n",
              "      <td>0</td>\n",
              "      <td>0</td>\n",
              "      <td>0</td>\n",
              "      <td>1</td>\n",
              "      <td>0</td>\n",
              "      <td>0</td>\n",
              "      <td>0</td>\n",
              "      <td>0</td>\n",
              "      <td>0</td>\n",
              "      <td>0</td>\n",
              "      <td>0</td>\n",
              "      <td>0</td>\n",
              "      <td>0</td>\n",
              "      <td>0</td>\n",
              "      <td>0</td>\n",
              "      <td>0</td>\n",
              "      <td>0</td>\n",
              "      <td>0</td>\n",
              "      <td>0</td>\n",
              "      <td>0</td>\n",
              "      <td>0</td>\n",
              "      <td>0</td>\n",
              "    </tr>\n",
              "  </tbody>\n",
              "</table>\n",
              "</div>"
            ],
            "text/plain": [
              "   key_0      imdbId  ... War Western\n",
              "0     27  114117.jpg  ...   0       0\n",
              "1    566  111709.jpg  ...   0       0\n",
              "2    774  113147.jpg  ...   0       0\n",
              "3   1505  112951.jpg  ...   0       0\n",
              "4   2174   87690.jpg  ...   0       0\n",
              "\n",
              "[5 rows x 37 columns]"
            ]
          },
          "metadata": {
            "tags": []
          },
          "execution_count": 24
        }
      ]
    },
    {
      "cell_type": "code",
      "metadata": {
        "id": "mjYOxSUNHvUK",
        "colab_type": "code",
        "outputId": "797504bb-c0e5-40cc-cf95-ee09882e79a5",
        "colab": {
          "base_uri": "https://localhost:8080/",
          "height": 295
        }
      },
      "source": [
        "# create distribution of genres plot\n",
        "sums = dataset.iloc[0:][genres].sum(axis=0)\n",
        "y_pos = np.arange(len(genres))\n",
        "\n",
        "plt.barh(y_pos, sums, height = 0.8, align='center')\n",
        "plt.yticks(y_pos, genres)\n",
        "plt.xlabel('Broj filmova')\n",
        "plt.title('Distribucija žanrova')\n",
        "\n",
        "plt.rcParams['figure.figsize'] = (7,7)\n",
        "\n",
        "plt.show()"
      ],
      "execution_count": 0,
      "outputs": [
        {
          "output_type": "display_data",
          "data": {
            "image/png": "[encoded data removed]",
            "text/plain": [
              "<Figure size 432x288 with 1 Axes>"
            ]
          },
          "metadata": {
            "tags": []
          }
        }
      ]
    },
    {
      "cell_type": "code",
      "metadata": {
        "id": "XkmkIZAgKL3N",
        "colab_type": "code",
        "outputId": "1a5cb810-4c53-4ad1-85d6-fea334efa9a6",
        "colab": {
          "base_uri": "https://localhost:8080/",
          "height": 119
        }
      },
      "source": [
        "# create distribution of number of genres plot\n",
        "counts = dataset.iloc[0:][genres].sum(axis=1).value_counts()\n",
        "x_pos = np.array([1, 2, 3])\n",
        "values = np.array([counts[3], counts[2], counts[1]])\n",
        "\n",
        "plt.rcParams['figure.figsize'] = (1,1)\n",
        "plt.bar(x_pos, values, width=0.2, align='center')\n",
        "plt.xticks(x_pos, x_pos)\n",
        "plt.ylabel(\"Broj žanrova\")\n",
        "\n",
        "plt.title(\"Distribucija broja žanrova\")\n",
        "\n",
        "plt.show()"
      ],
      "execution_count": 0,
      "outputs": [
        {
          "output_type": "display_data",
          "data": {
            "image/png": "[encoded data removed]",
            "text/plain": [
              "<Figure size 72x72 with 1 Axes>"
            ]
          },
          "metadata": {
            "tags": []
          }
        }
      ]
    },
    {
      "cell_type": "code",
      "metadata": {
        "id": "JozekbeIHFes",
        "colab_type": "code",
        "colab": {}
      },
      "source": [
        "# data generators\n",
        "datagen = ImageDataGenerator(rescale=1./255)"
      ],
      "execution_count": 0,
      "outputs": []
    },
    {
      "cell_type": "code",
      "metadata": {
        "id": "kQ-WGBfDGnJ9",
        "colab_type": "code",
        "outputId": "3eebee88-df87-4d8a-b95c-2674a3111c2f",
        "colab": {
          "base_uri": "https://localhost:8080/",
          "height": 193
        }
      },
      "source": [
        "train_generator=datagen.flow_from_dataframe(dataframe=dataset, directory=train_data_dir, \n",
        "                                            x_col=\"imdbId\", y_col=genres, class_mode='raw',\n",
        "                                            target_size=(224,224), batch_size=batch_size)\n",
        "\n",
        "valid_generator=datagen.flow_from_dataframe(dataframe=dataset, directory=validation_data_dir, \n",
        "                                            x_col=\"imdbId\", y_col=genres, class_mode=\"raw\",\n",
        "                                            target_size=(224,224), batch_size=batch_size)\n",
        "\n",
        "test_generator=datagen.flow_from_dataframe(dataframe=dataset, directory=test_data_dir, \n",
        "                                            x_col=\"imdbId\", y_col=genres, class_mode=\"raw\",\n",
        "                                            target_size=(224,224), batch_size=batch_size)"
      ],
      "execution_count": 0,
      "outputs": [
        {
          "output_type": "stream",
          "text": [
            "/usr/local/lib/python3.6/dist-packages/keras_preprocessing/image/dataframe_iterator.py:273: UserWarning: Found 8557 invalid image filename(s) in x_col=\"imdbId\". These filename(s) will be ignored.\n",
            "  .format(n_invalid, x_col)\n"
          ],
          "name": "stderr"
        },
        {
          "output_type": "stream",
          "text": [
            "Found 11605 validated image filenames.\n"
          ],
          "name": "stdout"
        },
        {
          "output_type": "stream",
          "text": [
            "/usr/local/lib/python3.6/dist-packages/keras_preprocessing/image/dataframe_iterator.py:273: UserWarning: Found 16297 invalid image filename(s) in x_col=\"imdbId\". These filename(s) will be ignored.\n",
            "  .format(n_invalid, x_col)\n"
          ],
          "name": "stderr"
        },
        {
          "output_type": "stream",
          "text": [
            "Found 3865 validated image filenames.\n",
            "Found 3861 validated image filenames.\n"
          ],
          "name": "stdout"
        },
        {
          "output_type": "stream",
          "text": [
            "/usr/local/lib/python3.6/dist-packages/keras_preprocessing/image/dataframe_iterator.py:273: UserWarning: Found 16301 invalid image filename(s) in x_col=\"imdbId\". These filename(s) will be ignored.\n",
            "  .format(n_invalid, x_col)\n"
          ],
          "name": "stderr"
        }
      ]
    },
    {
      "cell_type": "code",
      "metadata": {
        "id": "IYS5vsf8FDqE",
        "colab_type": "code",
        "outputId": "c828c3b3-8bc0-4f2f-85aa-458c16c2472d",
        "colab": {
          "base_uri": "https://localhost:8080/",
          "height": 280
        }
      },
      "source": [
        "# model definition\n",
        "model = Sequential()\n",
        "model.add(Conv2D(32, kernel_size=(3, 3), activation='relu', input_shape=(224, 224, 3)))\n",
        "model.add(MaxPooling2D(pool_size=(2, 2)))\n",
        "model.add(Dropout(0.25))\n",
        "model.add(Conv2D(64, kernel_size=(3, 3), activation='relu'))\n",
        "model.add(MaxPooling2D(pool_size=(2, 2)))\n",
        "model.add(Dropout(0.25))\n",
        "model.add(Conv2D(128, kernel_size=(3, 3), activation='relu'))\n",
        "model.add(MaxPooling2D(pool_size=(2, 2)))\n",
        "model.add(Dropout(0.25))\n",
        "model.add(Flatten())\n",
        "model.add(Dense(128, activation='relu'))\n",
        "model.add(Dropout(0.5))\n",
        "model.add(Dense(len(genres), activation='sigmoid'))"
      ],
      "execution_count": 0,
      "outputs": [
        {
          "output_type": "stream",
          "text": [
            "WARNING: Logging before flag parsing goes to stderr.\n",
            "W0617 14:56:04.647709 140290231220096 deprecation_wrapper.py:119] From /usr/local/lib/python3.6/dist-packages/keras/backend/tensorflow_backend.py:74: The name tf.get_default_graph is deprecated. Please use tf.compat.v1.get_default_graph instead.\n",
            "\n",
            "W0617 14:56:04.674123 140290231220096 deprecation_wrapper.py:119] From /usr/local/lib/python3.6/dist-packages/keras/backend/tensorflow_backend.py:517: The name tf.placeholder is deprecated. Please use tf.compat.v1.placeholder instead.\n",
            "\n",
            "W0617 14:56:04.681719 140290231220096 deprecation_wrapper.py:119] From /usr/local/lib/python3.6/dist-packages/keras/backend/tensorflow_backend.py:4138: The name tf.random_uniform is deprecated. Please use tf.random.uniform instead.\n",
            "\n",
            "W0617 14:56:04.698159 140290231220096 deprecation_wrapper.py:119] From /usr/local/lib/python3.6/dist-packages/keras/backend/tensorflow_backend.py:3976: The name tf.nn.max_pool is deprecated. Please use tf.nn.max_pool2d instead.\n",
            "\n",
            "W0617 14:56:04.702114 140290231220096 deprecation_wrapper.py:119] From /usr/local/lib/python3.6/dist-packages/keras/backend/tensorflow_backend.py:133: The name tf.placeholder_with_default is deprecated. Please use tf.compat.v1.placeholder_with_default instead.\n",
            "\n",
            "W0617 14:56:04.711058 140290231220096 deprecation.py:506] From /usr/local/lib/python3.6/dist-packages/keras/backend/tensorflow_backend.py:3445: calling dropout (from tensorflow.python.ops.nn_ops) with keep_prob is deprecated and will be removed in a future version.\n",
            "Instructions for updating:\n",
            "Please use `rate` instead of `keep_prob`. Rate should be set to `rate = 1 - keep_prob`.\n"
          ],
          "name": "stderr"
        }
      ]
    },
    {
      "cell_type": "code",
      "metadata": {
        "id": "M0KhqNFs747o",
        "colab_type": "code",
        "outputId": "4ca99fbc-1932-4320-d86f-c890cafcdbf4",
        "colab": {
          "base_uri": "https://localhost:8080/",
          "height": 607
        }
      },
      "source": [
        "print(model.summary())"
      ],
      "execution_count": 0,
      "outputs": [
        {
          "output_type": "stream",
          "text": [
            "_________________________________________________________________\n",
            "Layer (type)                 Output Shape              Param #   \n",
            "=================================================================\n",
            "conv2d_1 (Conv2D)            (None, 222, 222, 32)      896       \n",
            "_________________________________________________________________\n",
            "max_pooling2d_1 (MaxPooling2 (None, 111, 111, 32)      0         \n",
            "_________________________________________________________________\n",
            "dropout_1 (Dropout)          (None, 111, 111, 32)      0         \n",
            "_________________________________________________________________\n",
            "conv2d_2 (Conv2D)            (None, 109, 109, 64)      18496     \n",
            "_________________________________________________________________\n",
            "max_pooling2d_2 (MaxPooling2 (None, 54, 54, 64)        0         \n",
            "_________________________________________________________________\n",
            "dropout_2 (Dropout)          (None, 54, 54, 64)        0         \n",
            "_________________________________________________________________\n",
            "conv2d_3 (Conv2D)            (None, 52, 52, 128)       73856     \n",
            "_________________________________________________________________\n",
            "max_pooling2d_3 (MaxPooling2 (None, 26, 26, 128)       0         \n",
            "_________________________________________________________________\n",
            "dropout_3 (Dropout)          (None, 26, 26, 128)       0         \n",
            "_________________________________________________________________\n",
            "flatten_1 (Flatten)          (None, 86528)             0         \n",
            "_________________________________________________________________\n",
            "dense_1 (Dense)              (None, 128)               11075712  \n",
            "_________________________________________________________________\n",
            "dropout_4 (Dropout)          (None, 128)               0         \n",
            "_________________________________________________________________\n",
            "dense_2 (Dense)              (None, 27)                3483      \n",
            "=================================================================\n",
            "Total params: 11,172,443\n",
            "Trainable params: 11,172,443\n",
            "Non-trainable params: 0\n",
            "_________________________________________________________________\n",
            "None\n"
          ],
          "name": "stdout"
        }
      ]
    },
    {
      "cell_type": "code",
      "metadata": {
        "id": "NhgdvRmfPTb3",
        "colab_type": "code",
        "outputId": "d7f6d04a-505c-402e-e6bb-76caf9170a65",
        "colab": {
          "base_uri": "https://localhost:8080/",
          "height": 176
        }
      },
      "source": [
        "adam = optimizers.Adam(lr=0.0001, clipnorm=1.)\n",
        "# model compile\n",
        "model.compile(optimizer=adam, loss='binary_crossentropy', metrics=['accuracy', hamming_loss, one_error_loss, coverage])"
      ],
      "execution_count": 0,
      "outputs": [
        {
          "output_type": "stream",
          "text": [
            "W0617 14:13:00.853490 139646675896192 deprecation_wrapper.py:119] From /usr/local/lib/python3.6/dist-packages/keras/optimizers.py:790: The name tf.train.Optimizer is deprecated. Please use tf.compat.v1.train.Optimizer instead.\n",
            "\n",
            "W0617 14:13:00.859144 139646675896192 deprecation_wrapper.py:119] From /usr/local/lib/python3.6/dist-packages/keras/backend/tensorflow_backend.py:3376: The name tf.log is deprecated. Please use tf.math.log instead.\n",
            "\n",
            "W0617 14:13:00.863848 139646675896192 deprecation.py:323] From /usr/local/lib/python3.6/dist-packages/tensorflow/python/ops/nn_impl.py:180: add_dispatch_support.<locals>.wrapper (from tensorflow.python.ops.array_ops) is deprecated and will be removed in a future version.\n",
            "Instructions for updating:\n",
            "Use tf.where in 2.0, which has the same broadcast rule as np.where\n"
          ],
          "name": "stderr"
        },
        {
          "output_type": "stream",
          "text": [
            "Tensor(\"dense_3/Sigmoid:0\", shape=(?, 27), dtype=float32)\n"
          ],
          "name": "stdout"
        }
      ]
    },
    {
      "cell_type": "code",
      "metadata": {
        "id": "AM0088Y9DgYQ",
        "colab_type": "code",
        "colab": {}
      },
      "source": [
        "mc = ModelCheckpoint(save_path, monitor='val_loss', mode='min', verbose=1, save_best_only=True)"
      ],
      "execution_count": 0,
      "outputs": []
    },
    {
      "cell_type": "code",
      "metadata": {
        "id": "xgu3GqkrQLaO",
        "colab_type": "code",
        "colab": {}
      },
      "source": [
        "STEP_SIZE_TRAIN=train_generator.n//train_generator.batch_size\n",
        "STEP_SIZE_VALID=valid_generator.n//valid_generator.batch_size\n",
        "STEP_SIZE_TEST=test_generator.n//test_generator.batch_size"
      ],
      "execution_count": 0,
      "outputs": []
    },
    {
      "cell_type": "code",
      "metadata": {
        "id": "mUrRMUtCPY2o",
        "colab_type": "code",
        "colab": {}
      },
      "source": [
        "hist = model.fit_generator(generator=train_generator,\n",
        "                    steps_per_epoch=STEP_SIZE_TRAIN,\n",
        "                    validation_data=valid_generator,\n",
        "                    validation_steps=STEP_SIZE_VALID,\n",
        "                    callbacks=[mc],\n",
        "                    epochs=10)"
      ],
      "execution_count": 0,
      "outputs": []
    },
    {
      "cell_type": "code",
      "metadata": {
        "id": "eizdC7GPIXb2",
        "colab_type": "code",
        "colab": {}
      },
      "source": [
        "# plot losses\n",
        "plt.rcParams['figure.figsize'] = (7,7)\n",
        "plt.plot(hist.history['loss'])\n",
        "plt.plot(hist.history['val_loss'])\n",
        "plt.title('Treniranje modela')\n",
        "plt.ylabel('Funkcija gubitka')\n",
        "plt.xlabel('epoha')\n",
        "plt.legend(['trening skup', 'validacioni skup'], loc='upper left')\n",
        "plt.show()"
      ],
      "execution_count": 0,
      "outputs": []
    },
    {
      "cell_type": "code",
      "metadata": {
        "id": "9LS0T3m6QDhb",
        "colab_type": "code",
        "outputId": "19c8bd0d-1869-4cd6-df60-3cd5c63625d8",
        "colab": {
          "base_uri": "https://localhost:8080/",
          "height": 176
        }
      },
      "source": [
        "# load the best model\n",
        "best_model_path = \"/content/drive/My Drive/Colab Notebooks/ML projekat/best_model.03-0.21.h5\"\n",
        "saved_model = load_model(best_model_path, custom_objects={ 'hamming_loss': hamming_loss, 'one_error_loss': one_error_loss, 'coverage' : coverage})"
      ],
      "execution_count": 0,
      "outputs": [
        {
          "output_type": "stream",
          "text": [
            "W0617 15:05:08.210376 140290231220096 deprecation_wrapper.py:119] From /usr/local/lib/python3.6/dist-packages/keras/backend/tensorflow_backend.py:174: The name tf.get_default_session is deprecated. Please use tf.compat.v1.get_default_session instead.\n",
            "\n",
            "W0617 15:05:09.127463 140290231220096 deprecation_wrapper.py:119] From /usr/local/lib/python3.6/dist-packages/keras/optimizers.py:790: The name tf.train.Optimizer is deprecated. Please use tf.compat.v1.train.Optimizer instead.\n",
            "\n",
            "W0617 15:05:09.140330 140290231220096 deprecation.py:323] From /usr/local/lib/python3.6/dist-packages/tensorflow/python/ops/nn_impl.py:180: add_dispatch_support.<locals>.wrapper (from tensorflow.python.ops.array_ops) is deprecated and will be removed in a future version.\n",
            "Instructions for updating:\n",
            "Use tf.where in 2.0, which has the same broadcast rule as np.where\n"
          ],
          "name": "stderr"
        },
        {
          "output_type": "stream",
          "text": [
            "Tensor(\"dense_2_1/Sigmoid:0\", shape=(?, 27), dtype=float32)\n"
          ],
          "name": "stdout"
        }
      ]
    },
    {
      "cell_type": "markdown",
      "metadata": {
        "id": "Crm7o0A2EQYr",
        "colab_type": "text"
      },
      "source": [
        ""
      ]
    },
    {
      "cell_type": "code",
      "metadata": {
        "id": "_XkZu9-hDokr",
        "colab_type": "code",
        "outputId": "8eae285d-20c4-47dd-e6df-691ed12f7423",
        "colab": {
          "base_uri": "https://localhost:8080/",
          "height": 55
        }
      },
      "source": [
        "# evaluate on the test set\n",
        "_, test_accuracy, test_hamming_loss, test_one_error_loss, test_coverage = saved_model.evaluate_generator(test_generator, steps = STEP_SIZE_TEST)\n",
        "print(\"Testing accuracy: {} \\tTesting Hamming loss:{} \\tTesting one-error loss: {} \\tTesting coverage: {}\".format(test_accuracy, test_hamming_loss, test_one_error_loss, test_coverage))"
      ],
      "execution_count": 0,
      "outputs": [
        {
          "output_type": "stream",
          "text": [
            "Testing accuracy: 0.9246788906699108 \tTesting Hamming loss:0.07532111291547601 \tTesting one-error loss: 0.47966847966847964 \tTesting coverage: 7.548303548303548\n"
          ],
          "name": "stdout"
        }
      ]
    },
    {
      "cell_type": "code",
      "metadata": {
        "id": "VGiqgQo6tLPb",
        "colab_type": "code",
        "colab": {}
      },
      "source": [
        ""
      ],
      "execution_count": 0,
      "outputs": []
    }
  ]
}